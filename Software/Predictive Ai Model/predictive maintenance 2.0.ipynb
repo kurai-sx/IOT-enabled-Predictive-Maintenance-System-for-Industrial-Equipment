{
 "cells": [
  {
   "cell_type": "code",
   "execution_count": 1,
   "id": "ba386dd4",
   "metadata": {},
   "outputs": [],
   "source": [
    "import pandas as pd\n",
    "import numpy as np\n",
    "import tensorflow as tf\n",
    "from sklearn.model_selection import train_test_split\n",
    "import matplotlib.pyplot as plt"
   ]
  },
  {
   "cell_type": "code",
   "execution_count": 2,
   "id": "82687653",
   "metadata": {},
   "outputs": [],
   "source": [
    "data = pd.read_csv(\"predModel.csv\")\n",
    "X = data.iloc[:, :6]\n",
    "y = data.iloc[:, 6:13]"
   ]
  },
  {
   "cell_type": "code",
   "execution_count": 3,
   "id": "2b70942e",
   "metadata": {},
   "outputs": [
    {
     "data": {
      "text/plain": [
       "'temp1'"
      ]
     },
     "execution_count": 3,
     "metadata": {},
     "output_type": "execute_result"
    }
   ],
   "source": [
    "data.columns[1]"
   ]
  },
  {
   "cell_type": "code",
   "execution_count": 4,
   "id": "68148c4d",
   "metadata": {},
   "outputs": [
    {
     "data": {
      "text/html": [
       "<div>\n",
       "<style scoped>\n",
       "    .dataframe tbody tr th:only-of-type {\n",
       "        vertical-align: middle;\n",
       "    }\n",
       "\n",
       "    .dataframe tbody tr th {\n",
       "        vertical-align: top;\n",
       "    }\n",
       "\n",
       "    .dataframe thead th {\n",
       "        text-align: right;\n",
       "    }\n",
       "</style>\n",
       "<table border=\"1\" class=\"dataframe\">\n",
       "  <thead>\n",
       "    <tr style=\"text-align: right;\">\n",
       "      <th></th>\n",
       "      <th>volt</th>\n",
       "      <th>temp1</th>\n",
       "      <th>temp2</th>\n",
       "      <th>vibration</th>\n",
       "      <th>speed</th>\n",
       "      <th>lubricant</th>\n",
       "    </tr>\n",
       "  </thead>\n",
       "  <tbody>\n",
       "    <tr>\n",
       "      <th>0</th>\n",
       "      <td>516</td>\n",
       "      <td>57.595105</td>\n",
       "      <td>64.149477</td>\n",
       "      <td>710</td>\n",
       "      <td>51</td>\n",
       "      <td>11</td>\n",
       "    </tr>\n",
       "    <tr>\n",
       "      <th>1</th>\n",
       "      <td>400</td>\n",
       "      <td>69.092409</td>\n",
       "      <td>66.165385</td>\n",
       "      <td>460</td>\n",
       "      <td>45</td>\n",
       "      <td>11</td>\n",
       "    </tr>\n",
       "    <tr>\n",
       "      <th>2</th>\n",
       "      <td>474</td>\n",
       "      <td>54.553645</td>\n",
       "      <td>56.986961</td>\n",
       "      <td>320</td>\n",
       "      <td>25</td>\n",
       "      <td>9</td>\n",
       "    </tr>\n",
       "    <tr>\n",
       "      <th>3</th>\n",
       "      <td>521</td>\n",
       "      <td>42.940973</td>\n",
       "      <td>45.590049</td>\n",
       "      <td>647</td>\n",
       "      <td>52</td>\n",
       "      <td>13</td>\n",
       "    </tr>\n",
       "    <tr>\n",
       "      <th>4</th>\n",
       "      <td>499</td>\n",
       "      <td>44.561773</td>\n",
       "      <td>37.671228</td>\n",
       "      <td>387</td>\n",
       "      <td>47</td>\n",
       "      <td>5</td>\n",
       "    </tr>\n",
       "  </tbody>\n",
       "</table>\n",
       "</div>"
      ],
      "text/plain": [
       "   volt      temp1      temp2  vibration  speed  lubricant\n",
       "0   516  57.595105  64.149477        710     51         11\n",
       "1   400  69.092409  66.165385        460     45         11\n",
       "2   474  54.553645  56.986961        320     25          9\n",
       "3   521  42.940973  45.590049        647     52         13\n",
       "4   499  44.561773  37.671228        387     47          5"
      ]
     },
     "execution_count": 4,
     "metadata": {},
     "output_type": "execute_result"
    }
   ],
   "source": [
    "X.head()"
   ]
  },
  {
   "cell_type": "code",
   "execution_count": 5,
   "id": "6ecee60e",
   "metadata": {},
   "outputs": [
    {
     "data": {
      "text/html": [
       "<div>\n",
       "<style scoped>\n",
       "    .dataframe tbody tr th:only-of-type {\n",
       "        vertical-align: middle;\n",
       "    }\n",
       "\n",
       "    .dataframe tbody tr th {\n",
       "        vertical-align: top;\n",
       "    }\n",
       "\n",
       "    .dataframe thead th {\n",
       "        text-align: right;\n",
       "    }\n",
       "</style>\n",
       "<table border=\"1\" class=\"dataframe\">\n",
       "  <thead>\n",
       "    <tr style=\"text-align: right;\">\n",
       "      <th></th>\n",
       "      <th>power failure</th>\n",
       "      <th>temp1 failure</th>\n",
       "      <th>temp2 failure</th>\n",
       "      <th>extreme vibration</th>\n",
       "      <th>speed error</th>\n",
       "      <th>lubricant required</th>\n",
       "      <th>days left 0</th>\n",
       "    </tr>\n",
       "  </thead>\n",
       "  <tbody>\n",
       "    <tr>\n",
       "      <th>0</th>\n",
       "      <td>0</td>\n",
       "      <td>0</td>\n",
       "      <td>0</td>\n",
       "      <td>1</td>\n",
       "      <td>0</td>\n",
       "      <td>0</td>\n",
       "      <td>12</td>\n",
       "    </tr>\n",
       "    <tr>\n",
       "      <th>1</th>\n",
       "      <td>0</td>\n",
       "      <td>0</td>\n",
       "      <td>0</td>\n",
       "      <td>0</td>\n",
       "      <td>0</td>\n",
       "      <td>1</td>\n",
       "      <td>22</td>\n",
       "    </tr>\n",
       "    <tr>\n",
       "      <th>2</th>\n",
       "      <td>0</td>\n",
       "      <td>0</td>\n",
       "      <td>0</td>\n",
       "      <td>0</td>\n",
       "      <td>1</td>\n",
       "      <td>0</td>\n",
       "      <td>27</td>\n",
       "    </tr>\n",
       "    <tr>\n",
       "      <th>3</th>\n",
       "      <td>0</td>\n",
       "      <td>0</td>\n",
       "      <td>0</td>\n",
       "      <td>1</td>\n",
       "      <td>0</td>\n",
       "      <td>0</td>\n",
       "      <td>8</td>\n",
       "    </tr>\n",
       "    <tr>\n",
       "      <th>4</th>\n",
       "      <td>0</td>\n",
       "      <td>0</td>\n",
       "      <td>0</td>\n",
       "      <td>0</td>\n",
       "      <td>0</td>\n",
       "      <td>0</td>\n",
       "      <td>-1</td>\n",
       "    </tr>\n",
       "  </tbody>\n",
       "</table>\n",
       "</div>"
      ],
      "text/plain": [
       "   power failure  temp1 failure  temp2 failure  extreme vibration  \\\n",
       "0              0              0              0                  1   \n",
       "1              0              0              0                  0   \n",
       "2              0              0              0                  0   \n",
       "3              0              0              0                  1   \n",
       "4              0              0              0                  0   \n",
       "\n",
       "   speed error  lubricant required  days left 0  \n",
       "0            0                   0           12  \n",
       "1            0                   1           22  \n",
       "2            1                   0           27  \n",
       "3            0                   0            8  \n",
       "4            0                   0           -1  "
      ]
     },
     "execution_count": 5,
     "metadata": {},
     "output_type": "execute_result"
    }
   ],
   "source": [
    "y.head()"
   ]
  },
  {
   "cell_type": "code",
   "execution_count": 6,
   "id": "feb714ae",
   "metadata": {},
   "outputs": [
    {
     "data": {
      "text/html": [
       "<div>\n",
       "<style scoped>\n",
       "    .dataframe tbody tr th:only-of-type {\n",
       "        vertical-align: middle;\n",
       "    }\n",
       "\n",
       "    .dataframe tbody tr th {\n",
       "        vertical-align: top;\n",
       "    }\n",
       "\n",
       "    .dataframe thead th {\n",
       "        text-align: right;\n",
       "    }\n",
       "</style>\n",
       "<table border=\"1\" class=\"dataframe\">\n",
       "  <thead>\n",
       "    <tr style=\"text-align: right;\">\n",
       "      <th></th>\n",
       "      <th>volt</th>\n",
       "      <th>temp1</th>\n",
       "      <th>temp2</th>\n",
       "      <th>vibration</th>\n",
       "      <th>speed</th>\n",
       "      <th>lubricant</th>\n",
       "      <th>power failure</th>\n",
       "      <th>temp1 failure</th>\n",
       "      <th>temp2 failure</th>\n",
       "      <th>extreme vibration</th>\n",
       "      <th>speed error</th>\n",
       "      <th>lubricant required</th>\n",
       "      <th>days left 0</th>\n",
       "      <th>0</th>\n",
       "      <th>21</th>\n",
       "    </tr>\n",
       "  </thead>\n",
       "  <tbody>\n",
       "    <tr>\n",
       "      <th>count</th>\n",
       "      <td>4998.000000</td>\n",
       "      <td>4998.000000</td>\n",
       "      <td>4998.000000</td>\n",
       "      <td>4998.000000</td>\n",
       "      <td>4998.000000</td>\n",
       "      <td>4998.000000</td>\n",
       "      <td>4998.000000</td>\n",
       "      <td>4998.000000</td>\n",
       "      <td>4998.000000</td>\n",
       "      <td>4998.000000</td>\n",
       "      <td>4998.000000</td>\n",
       "      <td>4998.000000</td>\n",
       "      <td>4998.000000</td>\n",
       "      <td>0.0</td>\n",
       "      <td>0.0</td>\n",
       "    </tr>\n",
       "    <tr>\n",
       "      <th>mean</th>\n",
       "      <td>450.385954</td>\n",
       "      <td>67.398899</td>\n",
       "      <td>49.943670</td>\n",
       "      <td>599.381553</td>\n",
       "      <td>38.819928</td>\n",
       "      <td>7.094838</td>\n",
       "      <td>0.145658</td>\n",
       "      <td>0.092037</td>\n",
       "      <td>0.069228</td>\n",
       "      <td>0.436575</td>\n",
       "      <td>0.072229</td>\n",
       "      <td>0.113445</td>\n",
       "      <td>16.107243</td>\n",
       "      <td>NaN</td>\n",
       "      <td>NaN</td>\n",
       "    </tr>\n",
       "    <tr>\n",
       "      <th>std</th>\n",
       "      <td>45.897403</td>\n",
       "      <td>15.738516</td>\n",
       "      <td>11.574997</td>\n",
       "      <td>170.997786</td>\n",
       "      <td>11.906294</td>\n",
       "      <td>4.289155</td>\n",
       "      <td>0.352799</td>\n",
       "      <td>0.289107</td>\n",
       "      <td>0.253866</td>\n",
       "      <td>0.496011</td>\n",
       "      <td>0.258892</td>\n",
       "      <td>0.317168</td>\n",
       "      <td>7.629589</td>\n",
       "      <td>NaN</td>\n",
       "      <td>NaN</td>\n",
       "    </tr>\n",
       "    <tr>\n",
       "      <th>min</th>\n",
       "      <td>370.000000</td>\n",
       "      <td>40.007388</td>\n",
       "      <td>30.006303</td>\n",
       "      <td>300.000000</td>\n",
       "      <td>19.000000</td>\n",
       "      <td>0.000000</td>\n",
       "      <td>0.000000</td>\n",
       "      <td>0.000000</td>\n",
       "      <td>0.000000</td>\n",
       "      <td>0.000000</td>\n",
       "      <td>0.000000</td>\n",
       "      <td>0.000000</td>\n",
       "      <td>-1.000000</td>\n",
       "      <td>NaN</td>\n",
       "      <td>NaN</td>\n",
       "    </tr>\n",
       "    <tr>\n",
       "      <th>25%</th>\n",
       "      <td>411.000000</td>\n",
       "      <td>53.849895</td>\n",
       "      <td>39.852530</td>\n",
       "      <td>450.000000</td>\n",
       "      <td>28.000000</td>\n",
       "      <td>3.000000</td>\n",
       "      <td>0.000000</td>\n",
       "      <td>0.000000</td>\n",
       "      <td>0.000000</td>\n",
       "      <td>0.000000</td>\n",
       "      <td>0.000000</td>\n",
       "      <td>0.000000</td>\n",
       "      <td>11.000000</td>\n",
       "      <td>NaN</td>\n",
       "      <td>NaN</td>\n",
       "    </tr>\n",
       "    <tr>\n",
       "      <th>50%</th>\n",
       "      <td>452.000000</td>\n",
       "      <td>67.073596</td>\n",
       "      <td>49.994353</td>\n",
       "      <td>600.000000</td>\n",
       "      <td>39.000000</td>\n",
       "      <td>7.000000</td>\n",
       "      <td>0.000000</td>\n",
       "      <td>0.000000</td>\n",
       "      <td>0.000000</td>\n",
       "      <td>0.000000</td>\n",
       "      <td>0.000000</td>\n",
       "      <td>0.000000</td>\n",
       "      <td>18.000000</td>\n",
       "      <td>NaN</td>\n",
       "      <td>NaN</td>\n",
       "    </tr>\n",
       "    <tr>\n",
       "      <th>75%</th>\n",
       "      <td>490.000000</td>\n",
       "      <td>80.721647</td>\n",
       "      <td>59.999160</td>\n",
       "      <td>745.000000</td>\n",
       "      <td>49.000000</td>\n",
       "      <td>11.000000</td>\n",
       "      <td>0.000000</td>\n",
       "      <td>0.000000</td>\n",
       "      <td>0.000000</td>\n",
       "      <td>1.000000</td>\n",
       "      <td>0.000000</td>\n",
       "      <td>0.000000</td>\n",
       "      <td>21.000000</td>\n",
       "      <td>NaN</td>\n",
       "      <td>NaN</td>\n",
       "    </tr>\n",
       "    <tr>\n",
       "      <th>max</th>\n",
       "      <td>529.000000</td>\n",
       "      <td>94.969512</td>\n",
       "      <td>69.990078</td>\n",
       "      <td>899.000000</td>\n",
       "      <td>59.000000</td>\n",
       "      <td>14.000000</td>\n",
       "      <td>1.000000</td>\n",
       "      <td>1.000000</td>\n",
       "      <td>1.000000</td>\n",
       "      <td>1.000000</td>\n",
       "      <td>1.000000</td>\n",
       "      <td>1.000000</td>\n",
       "      <td>30.000000</td>\n",
       "      <td>NaN</td>\n",
       "      <td>NaN</td>\n",
       "    </tr>\n",
       "  </tbody>\n",
       "</table>\n",
       "</div>"
      ],
      "text/plain": [
       "              volt        temp1        temp2    vibration        speed  \\\n",
       "count  4998.000000  4998.000000  4998.000000  4998.000000  4998.000000   \n",
       "mean    450.385954    67.398899    49.943670   599.381553    38.819928   \n",
       "std      45.897403    15.738516    11.574997   170.997786    11.906294   \n",
       "min     370.000000    40.007388    30.006303   300.000000    19.000000   \n",
       "25%     411.000000    53.849895    39.852530   450.000000    28.000000   \n",
       "50%     452.000000    67.073596    49.994353   600.000000    39.000000   \n",
       "75%     490.000000    80.721647    59.999160   745.000000    49.000000   \n",
       "max     529.000000    94.969512    69.990078   899.000000    59.000000   \n",
       "\n",
       "         lubricant  power failure  temp1 failure  temp2 failure  \\\n",
       "count  4998.000000    4998.000000    4998.000000    4998.000000   \n",
       "mean      7.094838       0.145658       0.092037       0.069228   \n",
       "std       4.289155       0.352799       0.289107       0.253866   \n",
       "min       0.000000       0.000000       0.000000       0.000000   \n",
       "25%       3.000000       0.000000       0.000000       0.000000   \n",
       "50%       7.000000       0.000000       0.000000       0.000000   \n",
       "75%      11.000000       0.000000       0.000000       0.000000   \n",
       "max      14.000000       1.000000       1.000000       1.000000   \n",
       "\n",
       "       extreme vibration  speed error  lubricant required  days left 0    0  \\\n",
       "count        4998.000000  4998.000000         4998.000000  4998.000000  0.0   \n",
       "mean            0.436575     0.072229            0.113445    16.107243  NaN   \n",
       "std             0.496011     0.258892            0.317168     7.629589  NaN   \n",
       "min             0.000000     0.000000            0.000000    -1.000000  NaN   \n",
       "25%             0.000000     0.000000            0.000000    11.000000  NaN   \n",
       "50%             0.000000     0.000000            0.000000    18.000000  NaN   \n",
       "75%             1.000000     0.000000            0.000000    21.000000  NaN   \n",
       "max             1.000000     1.000000            1.000000    30.000000  NaN   \n",
       "\n",
       "        21  \n",
       "count  0.0  \n",
       "mean   NaN  \n",
       "std    NaN  \n",
       "min    NaN  \n",
       "25%    NaN  \n",
       "50%    NaN  \n",
       "75%    NaN  \n",
       "max    NaN  "
      ]
     },
     "execution_count": 6,
     "metadata": {},
     "output_type": "execute_result"
    }
   ],
   "source": [
    "data.describe()"
   ]
  },
  {
   "cell_type": "code",
   "execution_count": 7,
   "id": "1985c325",
   "metadata": {},
   "outputs": [],
   "source": [
    "def plot_graph(x,y,x_label,y_label):\n",
    "    plt.figure(figsize=(10, 6))\n",
    "    # Plot the data as a scatter plot\n",
    "    plt.scatter(x, y, color='blue', marker='o', label='Data Points')\n",
    "    # Add labels and title\n",
    "    plt.xlabel(x_label)\n",
    "    plt.ylabel(y_label)\n",
    "    plt.title(x_label+' X '+y_label)\n",
    "    # Add gridlines\n",
    "    plt.grid(True)\n",
    "    # Add a trendline (linear regression)\n",
    "    coefficients = np.polyfit(x, y, 1)\n",
    "    trendline = np.poly1d(coefficients)\n",
    "    plt.plot(x, trendline(x), color='red', linestyle='--', label='Trendline')\n",
    "    # Add a colorbar\n",
    "    plt.colorbar()\n",
    "    # Add legend\n",
    "    plt.legend()\n",
    "    # Show plot\n",
    "    plt.show()\n"
   ]
  },
  {
   "cell_type": "code",
   "execution_count": 8,
   "id": "6418410d",
   "metadata": {},
   "outputs": [
    {
     "data": {
      "image/png": "[encoded data removed]",
      "text/plain": [
       "<Figure size 720x432 with 2 Axes>"
      ]
     },
     "metadata": {
      "needs_background": "light"
     },
     "output_type": "display_data"
    },
    {
     "data": {
      "image/png": "[encoded data removed]",
      "text/plain": [
       "<Figure size 720x432 with 2 Axes>"
      ]
     },
     "metadata": {
      "needs_background": "light"
     },
     "output_type": "display_data"
    },
    {
     "data": {
      "image/png": "[encoded data removed]",
      "text/plain": [
       "<Figure size 720x432 with 2 Axes>"
      ]
     },
     "metadata": {
      "needs_background": "light"
     },
     "output_type": "display_data"
    },
    {
     "data": {
      "image/png": "[encoded data removed]",
      "text/plain": [
       "<Figure size 720x432 with 2 Axes>"
      ]
     },
     "metadata": {
      "needs_background": "light"
     },
     "output_type": "display_data"
    },
    {
     "data": {
      "image/png": "[encoded data removed]",
      "text/plain": [
       "<Figure size 720x432 with 2 Axes>"
      ]
     },
     "metadata": {
      "needs_background": "light"
     },
     "output_type": "display_data"
    },
    {
     "data": {
      "image/png": "[encoded data removed]",
      "text/plain": [
       "<Figure size 720x432 with 2 Axes>"
      ]
     },
     "metadata": {
      "needs_background": "light"
     },
     "output_type": "display_data"
    }
   ],
   "source": [
    "for i in range(1,7):\n",
    "    plot_graph(np.array(data.iloc[:,i]),np.array(data.iloc[:,6+i]),data.columns[i-1],data.columns[i+5])"
   ]
  },
  {
   "cell_type": "code",
   "execution_count": null,
   "id": "de0abbe7",
   "metadata": {},
   "outputs": [],
   "source": []
  },
  {
   "cell_type": "code",
   "execution_count": 9,
   "id": "a4ffbeaf",
   "metadata": {},
   "outputs": [],
   "source": [
    "# Split data into training and testing sets\n",
    "X_train, X_test, y_train, y_test = train_test_split(X, y, test_size=0.2, random_state=42)\n",
    "\n",
    "# Define the model architecture\n",
    "model = tf.keras.Sequential([\n",
    "    tf.keras.layers.Dense(10, activation='sigmoid', kernel_regularizer=tf.keras.regularizers.l2(0.01), input_shape=(6,)),\n",
    "    tf.keras.layers.Dropout(0.2),  # Adding dropout with dropout rate of 0.2\n",
    "    tf.keras.layers.Dense(10, activation='sigmoid', kernel_regularizer=tf.keras.regularizers.l2(0.01)),\n",
    "    tf.keras.layers.Dropout(0.2),  # Adding dropout with dropout rate of 0.2\n",
    "    tf.keras.layers.Dense(7, activation='softmax')  # Output layer with sigmoid activation for binary classification\n",
    "])"
   ]
  },
  {
   "cell_type": "code",
   "execution_count": 10,
   "id": "3810219e",
   "metadata": {},
   "outputs": [
    {
     "name": "stdout",
     "output_type": "stream",
     "text": [
      "Epoch 1/50\n",
      "100/100 [==============================] - 5s 5ms/step - loss: 2.6448 - accuracy: 0.0222 - val_loss: 2.5330 - val_accuracy: 0.0000e+00\n",
      "Epoch 2/50\n",
      "100/100 [==============================] - 0s 2ms/step - loss: 2.5368 - accuracy: 0.4103 - val_loss: 2.4227 - val_accuracy: 0.9200\n",
      "Epoch 3/50\n",
      "100/100 [==============================] - 0s 2ms/step - loss: 2.4373 - accuracy: 0.9237 - val_loss: 2.3477 - val_accuracy: 0.9200\n",
      "Epoch 4/50\n",
      "100/100 [==============================] - 0s 2ms/step - loss: 2.3896 - accuracy: 0.9309 - val_loss: 2.3203 - val_accuracy: 0.9200\n",
      "Epoch 5/50\n",
      "100/100 [==============================] - 0s 2ms/step - loss: 2.3693 - accuracy: 0.9309 - val_loss: 2.3070 - val_accuracy: 0.9200\n",
      "Epoch 6/50\n",
      "100/100 [==============================] - 0s 2ms/step - loss: 2.3589 - accuracy: 0.9309 - val_loss: 2.3002 - val_accuracy: 0.9200\n",
      "Epoch 7/50\n",
      "100/100 [==============================] - 0s 2ms/step - loss: 2.3532 - accuracy: 0.9309 - val_loss: 2.2965 - val_accuracy: 0.9200\n",
      "Epoch 8/50\n",
      "100/100 [==============================] - 0s 2ms/step - loss: 2.3501 - accuracy: 0.9309 - val_loss: 2.2945 - val_accuracy: 0.9200\n",
      "Epoch 9/50\n",
      "100/100 [==============================] - 0s 2ms/step - loss: 2.3482 - accuracy: 0.9309 - val_loss: 2.2933 - val_accuracy: 0.9200\n",
      "Epoch 10/50\n",
      "100/100 [==============================] - 0s 2ms/step - loss: 2.3470 - accuracy: 0.9309 - val_loss: 2.2925 - val_accuracy: 0.9200\n",
      "Epoch 11/50\n",
      "100/100 [==============================] - 0s 2ms/step - loss: 2.3462 - accuracy: 0.9309 - val_loss: 2.2921 - val_accuracy: 0.9200\n",
      "Epoch 12/50\n",
      "100/100 [==============================] - 0s 2ms/step - loss: 2.3456 - accuracy: 0.9309 - val_loss: 2.2917 - val_accuracy: 0.9200\n",
      "Epoch 13/50\n",
      "100/100 [==============================] - 0s 2ms/step - loss: 2.3453 - accuracy: 0.9309 - val_loss: 2.2915 - val_accuracy: 0.9200\n",
      "Epoch 14/50\n",
      "100/100 [==============================] - 0s 2ms/step - loss: 2.3451 - accuracy: 0.9309 - val_loss: 2.2913 - val_accuracy: 0.9200\n",
      "Epoch 15/50\n",
      "100/100 [==============================] - 0s 2ms/step - loss: 2.3449 - accuracy: 0.9309 - val_loss: 2.2912 - val_accuracy: 0.9200\n",
      "Epoch 16/50\n",
      "100/100 [==============================] - 0s 2ms/step - loss: 2.3446 - accuracy: 0.9309 - val_loss: 2.2911 - val_accuracy: 0.9200\n",
      "Epoch 17/50\n",
      "100/100 [==============================] - 0s 2ms/step - loss: 2.3444 - accuracy: 0.9309 - val_loss: 2.2910 - val_accuracy: 0.9200\n",
      "Epoch 18/50\n",
      "100/100 [==============================] - 0s 2ms/step - loss: 2.3444 - accuracy: 0.9309 - val_loss: 2.2910 - val_accuracy: 0.9200\n",
      "Epoch 19/50\n",
      "100/100 [==============================] - 0s 2ms/step - loss: 2.3442 - accuracy: 0.9309 - val_loss: 2.2909 - val_accuracy: 0.9200\n",
      "Epoch 20/50\n",
      "100/100 [==============================] - 0s 2ms/step - loss: 2.3441 - accuracy: 0.9309 - val_loss: 2.2908 - val_accuracy: 0.9200\n",
      "Epoch 21/50\n",
      "100/100 [==============================] - 0s 2ms/step - loss: 2.3441 - accuracy: 0.9309 - val_loss: 2.2908 - val_accuracy: 0.9200\n",
      "Epoch 22/50\n",
      "100/100 [==============================] - 0s 2ms/step - loss: 2.3440 - accuracy: 0.9309 - val_loss: 2.2908 - val_accuracy: 0.9200\n",
      "Epoch 23/50\n",
      "100/100 [==============================] - 0s 2ms/step - loss: 2.3440 - accuracy: 0.9309 - val_loss: 2.2907 - val_accuracy: 0.9200\n",
      "Epoch 24/50\n",
      "100/100 [==============================] - 0s 2ms/step - loss: 2.3439 - accuracy: 0.9309 - val_loss: 2.2907 - val_accuracy: 0.9200\n",
      "Epoch 25/50\n",
      "100/100 [==============================] - 0s 2ms/step - loss: 2.3439 - accuracy: 0.9309 - val_loss: 2.2907 - val_accuracy: 0.9200\n",
      "Epoch 26/50\n",
      "100/100 [==============================] - 0s 2ms/step - loss: 2.3438 - accuracy: 0.9309 - val_loss: 2.2907 - val_accuracy: 0.9200\n",
      "Epoch 27/50\n",
      "100/100 [==============================] - 0s 2ms/step - loss: 2.3438 - accuracy: 0.9309 - val_loss: 2.2907 - val_accuracy: 0.9200\n",
      "Epoch 28/50\n",
      "100/100 [==============================] - 0s 2ms/step - loss: 2.3438 - accuracy: 0.9309 - val_loss: 2.2907 - val_accuracy: 0.9200\n",
      "Epoch 29/50\n",
      "100/100 [==============================] - 0s 2ms/step - loss: 2.3437 - accuracy: 0.9309 - val_loss: 2.2906 - val_accuracy: 0.9200\n",
      "Epoch 30/50\n",
      "100/100 [==============================] - 0s 2ms/step - loss: 2.3437 - accuracy: 0.9309 - val_loss: 2.2906 - val_accuracy: 0.9200\n",
      "Epoch 31/50\n",
      "100/100 [==============================] - 0s 2ms/step - loss: 2.3437 - accuracy: 0.9309 - val_loss: 2.2906 - val_accuracy: 0.9200\n",
      "Epoch 32/50\n",
      "100/100 [==============================] - 0s 2ms/step - loss: 2.3436 - accuracy: 0.9309 - val_loss: 2.2906 - val_accuracy: 0.9200\n",
      "Epoch 33/50\n",
      "100/100 [==============================] - 0s 2ms/step - loss: 2.3436 - accuracy: 0.9309 - val_loss: 2.2906 - val_accuracy: 0.9200\n",
      "Epoch 34/50\n",
      "100/100 [==============================] - 0s 2ms/step - loss: 2.3436 - accuracy: 0.9309 - val_loss: 2.2906 - val_accuracy: 0.9200\n",
      "Epoch 35/50\n",
      "100/100 [==============================] - 0s 2ms/step - loss: 2.3436 - accuracy: 0.9309 - val_loss: 2.2906 - val_accuracy: 0.9200\n",
      "Epoch 36/50\n",
      "100/100 [==============================] - 0s 2ms/step - loss: 2.3436 - accuracy: 0.9309 - val_loss: 2.2906 - val_accuracy: 0.9200\n",
      "Epoch 37/50\n",
      "100/100 [==============================] - 0s 3ms/step - loss: 2.3436 - accuracy: 0.9309 - val_loss: 2.2906 - val_accuracy: 0.9200\n",
      "Epoch 38/50\n",
      "100/100 [==============================] - 0s 2ms/step - loss: 2.3436 - accuracy: 0.9309 - val_loss: 2.2906 - val_accuracy: 0.9200\n",
      "Epoch 39/50\n",
      "100/100 [==============================] - 0s 2ms/step - loss: 2.3435 - accuracy: 0.9309 - val_loss: 2.2906 - val_accuracy: 0.9200\n",
      "Epoch 40/50\n",
      "100/100 [==============================] - 0s 2ms/step - loss: 2.3435 - accuracy: 0.9309 - val_loss: 2.2906 - val_accuracy: 0.9200\n",
      "Epoch 41/50\n",
      "100/100 [==============================] - 0s 2ms/step - loss: 2.3435 - accuracy: 0.9309 - val_loss: 2.2906 - val_accuracy: 0.9200\n",
      "Epoch 42/50\n",
      "100/100 [==============================] - 0s 2ms/step - loss: 2.3435 - accuracy: 0.9309 - val_loss: 2.2906 - val_accuracy: 0.9200\n",
      "Epoch 43/50\n",
      "100/100 [==============================] - 0s 2ms/step - loss: 2.3435 - accuracy: 0.9309 - val_loss: 2.2906 - val_accuracy: 0.9200\n",
      "Epoch 44/50\n",
      "100/100 [==============================] - 0s 2ms/step - loss: 2.3435 - accuracy: 0.9309 - val_loss: 2.2906 - val_accuracy: 0.9200\n",
      "Epoch 45/50\n",
      "100/100 [==============================] - 0s 2ms/step - loss: 2.3435 - accuracy: 0.9309 - val_loss: 2.2906 - val_accuracy: 0.9200\n",
      "Epoch 46/50\n",
      "100/100 [==============================] - 0s 2ms/step - loss: 2.3435 - accuracy: 0.9309 - val_loss: 2.2906 - val_accuracy: 0.9200\n",
      "Epoch 47/50\n",
      "100/100 [==============================] - 0s 2ms/step - loss: 2.3435 - accuracy: 0.9309 - val_loss: 2.2906 - val_accuracy: 0.9200\n",
      "Epoch 48/50\n",
      "100/100 [==============================] - 0s 2ms/step - loss: 2.3435 - accuracy: 0.9309 - val_loss: 2.2906 - val_accuracy: 0.9200\n",
      "Epoch 49/50\n",
      "100/100 [==============================] - 0s 2ms/step - loss: 2.3435 - accuracy: 0.9309 - val_loss: 2.2906 - val_accuracy: 0.9200\n",
      "Epoch 50/50\n",
      "100/100 [==============================] - 0s 2ms/step - loss: 2.3435 - accuracy: 0.9309 - val_loss: 2.2906 - val_accuracy: 0.9200\n"
     ]
    },
    {
     "data": {
      "text/plain": [
       "<keras.callbacks.History at 0x1a1b111dbb0>"
      ]
     },
     "execution_count": 10,
     "metadata": {},
     "output_type": "execute_result"
    }
   ],
   "source": [
    "# Compile the model\n",
    "model.compile(optimizer='Adam',\n",
    "              loss='MAE',  # Binary cross-entropy loss for binary classification\n",
    "              metrics=['accuracy'])\n",
    "\n",
    "# Train the model\n",
    "model.fit(X_train, y_train, epochs=50, batch_size=32, validation_split=0.2)"
   ]
  },
  {
   "cell_type": "code",
   "execution_count": 11,
   "id": "31f36116",
   "metadata": {},
   "outputs": [
    {
     "name": "stdout",
     "output_type": "stream",
     "text": [
      "32/32 [==============================] - 0s 2ms/step - loss: 2.3257 - accuracy: 0.9310\n",
      "Test Accuracy: 0.9309999942779541\n"
     ]
    }
   ],
   "source": [
    "# Evaluate the model on the test set\n",
    "test_loss, test_accuracy = model.evaluate(X_test, y_test)\n",
    "print(\"Test Accuracy:\", test_accuracy)"
   ]
  },
  {
   "cell_type": "code",
   "execution_count": 12,
   "id": "18ef53da",
   "metadata": {},
   "outputs": [],
   "source": [
    "# Save the trained model\n",
    "model.save(\"industrial_machine_model.h5\")"
   ]
  },
  {
   "cell_type": "code",
   "execution_count": 13,
   "id": "77faa0d8",
   "metadata": {},
   "outputs": [
    {
     "name": "stdout",
     "output_type": "stream",
     "text": [
      "1/1 [==============================] - 0s 200ms/step\n",
      "Predictions: [[1.4797783e-06 5.4370994e-06 4.6468294e-06 4.0655581e-05 1.1527234e-05\n",
      "  1.4514592e-05 9.9992180e-01]]\n"
     ]
    }
   ],
   "source": [
    "model = tf.keras.models.load_model(\"industrial_machine_model.h5\")  # Replace \"your_model.h5\" with the path to your trained model file\n",
    "\n",
    "# Define custom input data\n",
    "custom_input = np.array([[469, 84.61350024335653, 36.537670713369074, 668, 24, 11]])  # Replace this with your custom input data\n",
    "\n",
    "# Make predictions with the custom input\n",
    "predictions = model.predict(custom_input)\n",
    "\n",
    "# Print the predictions\n",
    "print(\"Predictions:\", predictions)"
   ]
  },
  {
   "cell_type": "code",
   "execution_count": 19,
   "id": "ba60f182",
   "metadata": {},
   "outputs": [
    {
     "name": "stdout",
     "output_type": "stream",
     "text": [
      "Accuracy for each output:\n",
      "power failure: 0.94\n",
      "temp1 failure: 0.941\n",
      "temp2 failure: 0.95\n",
      "extreme vibration: 0.953\n",
      "speed error: 0.919\n",
      "lubricant required: 0.878\n",
      "days left 0: 0.39\n",
      "0.8529999999999999\n"
     ]
    }
   ],
   "source": [
    "import pandas as pd\n",
    "from sklearn.model_selection import train_test_split\n",
    "from sklearn.neighbors import KNeighborsClassifier\n",
    "from sklearn.multioutput import MultiOutputClassifier\n",
    "from sklearn.metrics import accuracy_score\n",
    "\n",
    "# Load the dataset\n",
    "df = pd.read_csv(\"predModel.csv\")  # Replace \"your_dataset.csv\" with the path to your dataset file\n",
    "\n",
    "# Separate features (inputs) and labels (outputs)\n",
    "X = df[['volt', 'temp1', 'temp2', 'vibration', 'speed', 'lubricant']]\n",
    "y = df[['power failure', 'temp1 failure', 'temp2 failure', 'extreme vibration', 'speed error', 'lubricant required', 'days left 0']]\n",
    "\n",
    "# Split the dataset into training and testing sets\n",
    "X_train, X_test, y_train, y_test = train_test_split(X, y, test_size=0.2, random_state=42)\n",
    "\n",
    "# Initialize the KNN classifier\n",
    "k = 3  # You can adjust the value of k as needed\n",
    "knn = KNeighborsClassifier(n_neighbors=k)\n",
    "\n",
    "# Create a multi-output classifier\n",
    "multi_output_classifier = MultiOutputClassifier(knn, n_jobs=-1)\n",
    "\n",
    "# Train the classifier\n",
    "multi_output_classifier.fit(X_train, y_train)\n",
    "\n",
    "# Make predictions on the test set\n",
    "y_pred = multi_output_classifier.predict(X_test)\n",
    "\n",
    "# Calculate accuracy for each output separately\n",
    "accuracies = []\n",
    "for i in range(len(y.columns)):\n",
    "    accuracy = (y_test.iloc[:, i] == y_pred[:, i]).mean()\n",
    "    accuracies.append(accuracy)\n",
    "\n",
    "print(\"Accuracy for each output:\")\n",
    "for i, column in enumerate(y.columns):\n",
    "    print(f\"{column}: {accuracies[i]}\")\n",
    "print(sum(accuracies)/7)"
   ]
  },
  {
   "cell_type": "code",
   "execution_count": 23,
   "id": "0a1bf6df",
   "metadata": {},
   "outputs": [
    {
     "name": "stdout",
     "output_type": "stream",
     "text": [
      "Accuracy for power failure: 0.844\n",
      "Accuracy for temp1 failure: 0.944\n",
      "Accuracy for temp2 failure: 0.96\n",
      "Accuracy for extreme vibration: 0.877\n",
      "Accuracy for speed error: 0.925\n",
      "Accuracy for lubricant required: 0.948\n",
      "Accuracy for days left 0: 0.2\n",
      "0.814\n"
     ]
    }
   ],
   "source": [
    "import pandas as pd\n",
    "from sklearn.model_selection import train_test_split\n",
    "from sklearn.naive_bayes import GaussianNB\n",
    "from sklearn.metrics import accuracy_score\n",
    "\n",
    "# Load the dataset\n",
    "data = pd.read_csv(\"predModel.csv\")  # Replace \"predModel.csv\" with the path to your dataset file\n",
    "\n",
    "# Split the dataset into features (inputs) and labels (outputs)\n",
    "X = data[['volt', 'temp1', 'temp2', 'vibration', 'speed', 'lubricant']]\n",
    "y = data[['power failure', 'temp1 failure', 'temp2 failure', 'extreme vibration', 'speed error', 'lubricant required', 'days left 0']]\n",
    "\n",
    "# Split the data into training and testing sets\n",
    "X_train, X_test, y_train, y_test = train_test_split(X, y, test_size=0.2, random_state=42)\n",
    "\n",
    "# Initialize Naive Bayes models for each output column\n",
    "models = {}\n",
    "for column in y.columns:\n",
    "    model = GaussianNB()\n",
    "    model.fit(X_train, y_train[column])\n",
    "    models[column] = model\n",
    "\n",
    "# Make predictions on the test set for each output column\n",
    "y_preds = {}\n",
    "for column, model in models.items():\n",
    "    y_pred = model.predict(X_test)\n",
    "    y_preds[column] = y_pred\n",
    "\n",
    "# Evaluate the performance of each model\n",
    "accuracies = {}\n",
    "for column in y.columns:\n",
    "    accuracy = accuracy_score(y_test[column], y_preds[column])\n",
    "    accuracies[column] = accuracy\n",
    "    print(f\"Accuracy for {column}: {accuracy}\")\n",
    "print(sum(accuracies.values())/7)"
   ]
  },
  {
   "cell_type": "code",
   "execution_count": 28,
   "id": "d3ff9fd7",
   "metadata": {},
   "outputs": [
    {
     "name": "stdout",
     "output_type": "stream",
     "text": [
      "Accuracy for power failure: 0.844\n",
      "Accuracy for temp1 failure: 0.931\n",
      "Accuracy for temp2 failure: 0.935\n",
      "Accuracy for extreme vibration: 0.872\n",
      "Accuracy for speed error: 0.925\n",
      "Accuracy for lubricant required: 0.933\n",
      "Accuracy for days left 0: 0.14\n",
      "0.797142857142857\n"
     ]
    },
    {
     "name": "stderr",
     "output_type": "stream",
     "text": [
      "c:\\users\\hpone\\appdata\\local\\programs\\python\\python39\\lib\\site-packages\\sklearn\\linear_model\\_logistic.py:444: ConvergenceWarning: lbfgs failed to converge (status=1):\n",
      "STOP: TOTAL NO. of ITERATIONS REACHED LIMIT.\n",
      "\n",
      "Increase the number of iterations (max_iter) or scale the data as shown in:\n",
      "    https://scikit-learn.org/stable/modules/preprocessing.html\n",
      "Please also refer to the documentation for alternative solver options:\n",
      "    https://scikit-learn.org/stable/modules/linear_model.html#logistic-regression\n",
      "  n_iter_i = _check_optimize_result(\n"
     ]
    }
   ],
   "source": [
    "import pandas as pd\n",
    "from sklearn.model_selection import train_test_split\n",
    "from sklearn.linear_model import LogisticRegression\n",
    "from sklearn.metrics import accuracy_score\n",
    "\n",
    "# Load the dataset\n",
    "data = pd.read_csv(\"predModel.csv\")\n",
    "\n",
    "# Split the dataset into features (inputs) and labels (outputs)\n",
    "X = data[['volt', 'temp1', 'temp2', 'vibration', 'speed', 'lubricant']]\n",
    "y_columns = ['power failure', 'temp1 failure', 'temp2 failure', 'extreme vibration', 'speed error', 'lubricant required', 'days left 0']\n",
    "\n",
    "# Initialize dictionary to store models\n",
    "models = {}\n",
    "\n",
    "# Split the data into training and testing sets\n",
    "X_train, X_test, y_train, y_test = train_test_split(X, data[y_columns], test_size=0.2, random_state=42)\n",
    "\n",
    "# Train a logistic regression model for each output column\n",
    "for col in y_columns:\n",
    "    model = LogisticRegression(max_iter=1000)\n",
    "    model.fit(X_train, y_train[col])\n",
    "    models[col] = model\n",
    "\n",
    "# Evaluate each model and print accuracy\n",
    "sum1 = 0\n",
    "for col, model in models.items():\n",
    "    y_pred = model.predict(X_test)\n",
    "    accuracy = accuracy_score(y_test[col], y_pred)\n",
    "    sum1+=accuracy\n",
    "    print(f\"Accuracy for {col}: {accuracy}\")\n",
    "print(sum1/7)"
   ]
  },
  {
   "cell_type": "code",
   "execution_count": 30,
   "id": "be8833b4",
   "metadata": {},
   "outputs": [
    {
     "name": "stdout",
     "output_type": "stream",
     "text": [
      "Accuracy for power failure: 0.844\n",
      "Accuracy for temp1 failure: 0.932\n",
      "Accuracy for temp2 failure: 0.94\n",
      "Accuracy for extreme vibration: 0.907\n",
      "Accuracy for speed error: 0.922\n",
      "Accuracy for lubricant required: 0.938\n",
      "Accuracy for days left 0: 0.166\n"
     ]
    }
   ],
   "source": [
    "import pandas as pd\n",
    "from sklearn.model_selection import train_test_split\n",
    "from sklearn.svm import SVC\n",
    "from sklearn.metrics import accuracy_score\n",
    "\n",
    "# Load the dataset\n",
    "data = pd.read_csv(\"predModel.csv\")\n",
    "\n",
    "# Split the dataset into features (inputs) and labels (outputs)\n",
    "X = data[['volt', 'temp1', 'temp2', 'vibration', 'speed', 'lubricant']]\n",
    "y_columns = ['power failure', 'temp1 failure', 'temp2 failure', 'extreme vibration', 'speed error', 'lubricant required', 'days left 0']\n",
    "\n",
    "# Initialize dictionary to store models\n",
    "models = {}\n",
    "\n",
    "# Split the data into training and testing sets\n",
    "X_train, X_test, y_train, y_test = train_test_split(X, data[y_columns], test_size=0.2, random_state=42)\n",
    "\n",
    "# Train an SVM model for each output column\n",
    "for col in y_columns:\n",
    "    model = SVC(kernel='linear')\n",
    "    model.fit(X_train, y_train[col])\n",
    "    models[col] = model\n",
    "\n",
    "\n"
   ]
  },
  {
   "cell_type": "code",
   "execution_count": 33,
   "id": "264a0801",
   "metadata": {},
   "outputs": [
    {
     "name": "stdout",
     "output_type": "stream",
     "text": [
      "Accuracy for power failure: 0.844\n",
      "Accuracy for temp1 failure: 0.932\n",
      "Accuracy for temp2 failure: 0.94\n",
      "Accuracy for extreme vibration: 0.907\n",
      "Accuracy for speed error: 0.922\n",
      "Accuracy for lubricant required: 0.938\n",
      "Accuracy for days left 0: 0.166\n",
      "0.807\n"
     ]
    }
   ],
   "source": [
    "# Evaluate each model and print accuracy\n",
    "sum1 = 0\n",
    "for col, model in models.items():\n",
    "    y_pred = model.predict(X_test)\n",
    "    accuracy = accuracy_score(y_test[col], y_pred)\n",
    "    sum1 += accuracy\n",
    "    print(f\"Accuracy for {col}: {accuracy}\")\n",
    "print(sum1/7)"
   ]
  },
  {
   "cell_type": "code",
   "execution_count": 42,
   "id": "b2ff84e4",
   "metadata": {},
   "outputs": [
    {
     "name": "stdout",
     "output_type": "stream",
     "text": [
      "Hamming Loss: power failure         0.018\n",
      "temp1 failure         0.009\n",
      "temp2 failure         0.007\n",
      "extreme vibration     0.003\n",
      "speed error           0.011\n",
      "lubricant required    0.008\n",
      "days left 0           0.089\n",
      "dtype: float64\n",
      "0.020714285714285716\n"
     ]
    }
   ],
   "source": [
    "import pandas as pd\n",
    "from sklearn.model_selection import train_test_split\n",
    "from sklearn.tree import DecisionTreeClassifier\n",
    "from sklearn.metrics import accuracy_score\n",
    "\n",
    "# Load the dataset\n",
    "data = pd.read_csv(\"predModel.csv\")\n",
    "\n",
    "# Split the dataset into features (inputs) and labels (outputs)\n",
    "X = data[['volt', 'temp1', 'temp2', 'vibration', 'speed', 'lubricant']]\n",
    "y = data[['power failure', 'temp1 failure', 'temp2 failure', 'extreme vibration', 'speed error', 'lubricant required', 'days left 0']]\n",
    "\n",
    "# Split the data into training and testing sets\n",
    "X_train, X_test, y_train, y_test = train_test_split(X, y, test_size=0.2, random_state=42)\n",
    "\n",
    "# Initialize and train the Decision Tree model\n",
    "model = DecisionTreeClassifier()\n",
    "model.fit(X_train, y_train)\n",
    "\n",
    "# Make predictions on the test set\n",
    "y_pred = model.predict(X_test)\n",
    "\n",
    "from sklearn.metrics import hamming_loss\n",
    "\n",
    "# Calculate Hamming loss manually\n",
    "hamming_loss_value = 1 - (y_test == y_pred).mean()\n",
    "print(\"Hamming Loss:\", hamming_loss_value)\n",
    "\n",
    "print(hamming_loss_value.mean())\n",
    "\n",
    "\n"
   ]
  },
  {
   "cell_type": "code",
   "execution_count": 44,
   "id": "bb0f6c3b",
   "metadata": {},
   "outputs": [
    {
     "name": "stdout",
     "output_type": "stream",
     "text": [
      "Average Accuracy: 0.9784285714285714\n"
     ]
    }
   ],
   "source": [
    "import pandas as pd\n",
    "from sklearn.model_selection import train_test_split\n",
    "from sklearn.ensemble import RandomForestClassifier\n",
    "from sklearn.metrics import accuracy_score\n",
    "\n",
    "# Load the dataset\n",
    "data = pd.read_csv(\"predModel.csv\")\n",
    "\n",
    "# Split the dataset into features (inputs) and labels (outputs)\n",
    "X = data[['volt', 'temp1', 'temp2', 'vibration', 'speed', 'lubricant']]\n",
    "y = data[['power failure', 'temp1 failure', 'temp2 failure', 'extreme vibration', 'speed error', 'lubricant required', 'days left 0']]\n",
    "\n",
    "# Split the data into training and testing sets\n",
    "X_train, X_test, y_train, y_test = train_test_split(X, y, test_size=0.2, random_state=42)\n",
    "\n",
    "# Initialize and train the Random Forest model\n",
    "model = RandomForestClassifier()\n",
    "model.fit(X_train, y_train)\n",
    "\n",
    "# Make predictions on the test set\n",
    "y_pred = model.predict(X_test)\n",
    "\n",
    "# Evaluate the model's performance\n",
    "accuracies = [accuracy_score(y_test.iloc[:, i], y_pred[:, i]) for i in range(y_test.shape[1])]\n",
    "\n",
    "# Average the accuracies\n",
    "accuracy = np.mean(accuracies)\n",
    "print(\"Average Accuracy:\", accuracy)\n"
   ]
  },
  {
   "cell_type": "code",
   "execution_count": null,
   "id": "a65e7a81",
   "metadata": {},
   "outputs": [],
   "source": []
  }
 ],
 "metadata": {
  "kernelspec": {
   "display_name": "Python 3 (ipykernel)",
   "language": "python",
   "name": "python3"
  },
  "language_info": {
   "codemirror_mode": {
    "name": "ipython",
    "version": 3
   },
   "file_extension": ".py",
   "mimetype": "text/x-python",
   "name": "python",
   "nbconvert_exporter": "python",
   "pygments_lexer": "ipython3",
   "version": "3.9.0"
  }
 },
 "nbformat": 4,
 "nbformat_minor": 5
}
